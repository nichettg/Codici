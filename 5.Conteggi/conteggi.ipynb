{
 "cells": [
  {
   "cell_type": "code",
   "execution_count": 1,
   "metadata": {},
   "outputs": [],
   "source": [
    "import importlib\n",
    "import funzioni as f\n",
    "importlib.reload(f)\n",
    "\n",
    "import math\n",
    "\n",
    "import matplotlib.pyplot as plt\n",
    "import numpy as np\n",
    "import itertools\n",
    "\n",
    "from mpl_toolkits.mplot3d import Axes3D\n",
    "import matplotlib.animation as animation\n",
    "\n",
    "%config InlineBackend.figure_format = 'svg'"
   ]
  },
  {
   "cell_type": "code",
   "execution_count": 2,
   "metadata": {},
   "outputs": [],
   "source": [
    "sy=0.002886751\n",
    "vx=[0.05, 0.1, 0.15, 0.2, 0.25, 0.3, 0.35, 0.4, 0.45, 0.5]\n",
    "vx9=[0.2, 0.35, 0.5]\n",
    "vx10=[0.25, 0.5]\n",
    "\n",
    "vy=[[57.94, 114.85, 172.66, 230.71, 287.78, 346.17, 402.96, 461.48, 518.33, 576.15],\n",
    "[55.5, 112.31, 169.49, 226.28, 282.14, 338.45, 394.33, 451.54, 507.84, 563.69],\n",
    "[55.5, 112.31, 169.49, 226.28, 282.14, 338.45, 394.33, 451.54, 507.84, 563.69], \n",
    "[48.11, 97.49, 145.45, 194.5, 242.74, 291.22, 339.55, 388.22, 436.82, 484.95],\n",
    "[46.1, 90.47, 136.82, 184.53, 232.1, 279.3, 325.68, 373.4, 420.29, 467.84],\n",
    "[46.88, 92.1, 139.15, 185.5, 232.15, 278.6, 324.71, 371.19, 416.97, 464.32],\n",
    "[10.41, 20.08, 30.66, 41.12, 51.76, 62, 72.26, 83, 93.5, 104.12],\n",
    "[9.01, 20.26, 30.66, 40.76, 51.76, 62.23, 72.76, 83.36, 94.02, 104.91],\n",
    "[10.71, 20.64, 30.91, 40.86, 51.75, 62.14, 71.8, 82.66, 93.07, 103.41],\n",
    "[7.29, 14.5, 21.33, 28.27, 35.12, 41.3, 49.09, 56.12, 62.94, 70.32],\n",
    "[6.89, 13.56, 20.44, 27.5, 34.25, 41.31, 48.18, 54.81, 62.22, 69.29],\n",
    "[6.89, 13.78, 21.02, 27.48, 34.25, 41.38, 48.3, 55.06, 61.97, 69.16],\n",
    "[3.79, 8.03, 12.57, 16.9, 21.1, 25.56, 30.17, 34.51, 39.03, 43.53],\n",
    "[3.98, 8.17, 12.64, 17.11, 21.47, 25.74, 30.23, 34.38, 38.96, 43.44],\n",
    "[4.25, 8, 12.94, 17.43, 21.55, 26, 30.72, 34.67, 39.04, 43.52],\n",
    "[2.39, 5.15, 8.15, 10.87, 13.89, 16.61, 19.49, 22.28, 25.71, 28.75],\n",
    "[2.53, 5.4, 7.98, 11.04, 13.7, 16.73, 19.64, 22.66, 25.25, 28.43],\n",
    "[2.86, 5.45, 8.41, 11.04, 13.97, 16.95, 19.81, 22.71, 25.98, 28.76]]\n",
    "vy9 = [[ 4.93, 9.99, 14.68],[4.96, 9.84, 14.51],[4.91, 9.82, 14.82]]\n",
    "vy10 = [[3.24, 7.27],[3.24, 7.28],[3.31, 7.4]]"
   ]
  },
  {
   "cell_type": "code",
   "execution_count": 10,
   "metadata": {},
   "outputs": [],
   "source": [
    "with open (\"elaborato.txt\", 'w') as file:\n",
    "    file.write('\\n')\n",
    "for i in range(len(vy)):\n",
    "    f.elaborato1(vx, vy[i], sy, \"elaborato.txt\", i)\n",
    "for i in range(len(vy9)):\n",
    "    f.elaborato1(vx9, vy9[i], sy, \"elaborato.txt\", i+18)\n",
    "\n",
    "with open (\"elaborato.txt\", 'a') as file:\n",
    "    for i in range(len(vy10)):\n",
    "        delta = f.delta1 (vx10)\n",
    "        b = f.a1 (vx10, vy10[i], delta)\n",
    "        sb = f.sa1 (vx10, sy, delta)\n",
    "        a = f.b1 (vx10, vy10[i], delta)\n",
    "        sa = f.sb1 (vx10, sy, delta)\n",
    "\n",
    "        file.write(\"\\n\\n\\n\")\n",
    "        file.write(str(a) + \"\\n\")\n",
    "        file.write(str(b) + \"\\n\")\n",
    "        file.write(str(sa) + \"\\n\")\n",
    "        file.write(str(sb) + \"\\n\")\n",
    "\n"
   ]
  }
 ],
 "metadata": {
  "kernelspec": {
   "display_name": "Python 3",
   "language": "python",
   "name": "python3"
  },
  "language_info": {
   "codemirror_mode": {
    "name": "ipython",
    "version": 3
   },
   "file_extension": ".py",
   "mimetype": "text/x-python",
   "name": "python",
   "nbconvert_exporter": "python",
   "pygments_lexer": "ipython3",
   "version": "3.11.9"
  }
 },
 "nbformat": 4,
 "nbformat_minor": 2
}
